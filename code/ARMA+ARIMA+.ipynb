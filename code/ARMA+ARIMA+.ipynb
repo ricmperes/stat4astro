{
 "cells": [
  {
   "cell_type": "markdown",
   "metadata": {},
   "source": [
    "# ARMA and ARIMA models"
   ]
  },
  {
   "cell_type": "code",
   "execution_count": 1,
   "metadata": {},
   "outputs": [
    {
     "name": "stderr",
     "output_type": "stream",
     "text": [
      "\n",
      "Attaching package: ‘TSA’\n",
      "\n",
      "The following objects are masked from ‘package:stats’:\n",
      "\n",
      "    acf, arima\n",
      "\n",
      "The following object is masked from ‘package:utils’:\n",
      "\n",
      "    tar\n",
      "\n",
      "Loading required package: zoo\n",
      "\n",
      "Attaching package: ‘zoo’\n",
      "\n",
      "The following objects are masked from ‘package:base’:\n",
      "\n",
      "    as.Date, as.Date.numeric\n",
      "\n",
      "Registered S3 methods overwritten by 'ggplot2':\n",
      "  method         from \n",
      "  [.quosures     rlang\n",
      "  c.quosures     rlang\n",
      "  print.quosures rlang\n",
      "Registered S3 method overwritten by 'xts':\n",
      "  method     from\n",
      "  as.zoo.xts zoo \n",
      "Registered S3 method overwritten by 'quantmod':\n",
      "  method            from\n",
      "  as.zoo.data.frame zoo \n",
      "Registered S3 methods overwritten by 'forecast':\n",
      "  method             from    \n",
      "  fitted.Arima       TSA     \n",
      "  fitted.fracdiff    fracdiff\n",
      "  plot.Arima         TSA     \n",
      "  residuals.fracdiff fracdiff\n",
      "\n",
      "Attaching package: ‘forecast’\n",
      "\n",
      "The following object is masked from ‘package:astsa’:\n",
      "\n",
      "    gas\n",
      "\n"
     ]
    }
   ],
   "source": [
    "library(astsa)\n",
    "library(TSA)\n",
    "library(caschrono)\n",
    "library(forecast)"
   ]
  },
  {
   "cell_type": "code",
   "execution_count": 2,
   "metadata": {},
   "outputs": [],
   "source": [
    "options(repr.plot.width=4, repr.plot.height=4, cex = 0.3)"
   ]
  },
  {
   "cell_type": "code",
   "execution_count": 41,
   "metadata": {},
   "outputs": [
    {
     "name": "stdout",
     "output_type": "stream",
     "text": [
      "\n",
      "Call:\n",
      "arima(x = x, order = c(1, 0, 1))\n",
      "\n",
      "Coefficients:\n",
      "         ar1      ma1  intercept\n",
      "      0,8370  -0,0976    -0,0109\n",
      "s.e.  0,0212   0,0383     0,1714\n",
      "\n",
      "sigma^2 estimated as 0,9685:  log likelihood = -1403,45,  aic = 2812,91\n",
      "\n",
      "Training set error measures:\n",
      "                       ME     RMSE       MAE      MPE     MAPE     MASE\n",
      "Training set -0,000889843 0,984121 0,7871293 116,7682 236,9334 0,941636\n",
      "                     ACF1\n",
      "Training set -0,000777087\n"
     ]
    }
   ],
   "source": [
    "set.seed=1007   # to keep\n",
    "x = arima.sim(list(order = c(1,0,1),ar=5/6, ma = -1/6), n = 1000,sd=1)\n",
    "xfit<-arima(x,order = c(1,0,1))\n",
    "summary(xfit)"
   ]
  },
  {
   "cell_type": "code",
   "execution_count": 42,
   "metadata": {},
   "outputs": [
    {
     "data": {
      "text/html": [
       "<dl class=dl-horizontal>\n",
       "\t<dt>ar1</dt>\n",
       "\t\t<dd>0,83695519180834</dd>\n",
       "\t<dt>ma1</dt>\n",
       "\t\t<dd>-0,0975972026145245</dd>\n",
       "\t<dt>intercept</dt>\n",
       "\t\t<dd>-0,0109467553593383</dd>\n",
       "</dl>\n"
      ],
      "text/latex": [
       "\\begin{description*}\n",
       "\\item[ar1] 0,83695519180834\n",
       "\\item[ma1] -0,0975972026145245\n",
       "\\item[intercept] -0,0109467553593383\n",
       "\\end{description*}\n"
      ],
      "text/markdown": [
       "ar1\n",
       ":   0,83695519180834ma1\n",
       ":   -0,0975972026145245intercept\n",
       ":   -0,0109467553593383\n",
       "\n"
      ],
      "text/plain": [
       "        ar1         ma1   intercept \n",
       " 0,83695519 -0,09759720 -0,01094676 "
      ]
     },
     "metadata": {},
     "output_type": "display_data"
    }
   ],
   "source": [
    "xhat<- fitted(xfit)\n",
    "xres<- resid(xfit)\n",
    "xfit$coef"
   ]
  },
  {
   "cell_type": "code",
   "execution_count": 43,
   "metadata": {
    "scrolled": true
   },
   "outputs": [
    {
     "data": {
      "text/html": [
       "<table>\n",
       "<thead><tr><th scope=col>ACF</th><th scope=col>PACF</th></tr></thead>\n",
       "<tbody>\n",
       "\t<tr><td> 0,00</td><td> 0,00</td></tr>\n",
       "\t<tr><td> 0,02</td><td> 0,02</td></tr>\n",
       "\t<tr><td>-0,01</td><td>-0,01</td></tr>\n",
       "\t<tr><td> 0,01</td><td> 0,01</td></tr>\n",
       "\t<tr><td>-0,07</td><td>-0,07</td></tr>\n",
       "\t<tr><td>-0,06</td><td>-0,06</td></tr>\n",
       "\t<tr><td> 0,04</td><td> 0,05</td></tr>\n",
       "\t<tr><td> 0,04</td><td> 0,04</td></tr>\n",
       "\t<tr><td>-0,02</td><td>-0,02</td></tr>\n",
       "\t<tr><td> 0,06</td><td> 0,05</td></tr>\n",
       "\t<tr><td>-0,01</td><td>-0,01</td></tr>\n",
       "\t<tr><td> 0,02</td><td> 0,02</td></tr>\n",
       "\t<tr><td> 0,03</td><td> 0,05</td></tr>\n",
       "\t<tr><td> 0,06</td><td> 0,06</td></tr>\n",
       "\t<tr><td> 0,01</td><td> 0,02</td></tr>\n",
       "\t<tr><td> 0,02</td><td> 0,02</td></tr>\n",
       "\t<tr><td>-0,01</td><td>-0,02</td></tr>\n",
       "\t<tr><td> 0,00</td><td> 0,00</td></tr>\n",
       "\t<tr><td>-0,06</td><td>-0,05</td></tr>\n",
       "\t<tr><td> 0,07</td><td> 0,07</td></tr>\n",
       "\t<tr><td>-0,02</td><td>-0,02</td></tr>\n",
       "\t<tr><td> 0,01</td><td> 0,00</td></tr>\n",
       "\t<tr><td> 0,02</td><td> 0,01</td></tr>\n",
       "\t<tr><td>-0,02</td><td>-0,04</td></tr>\n",
       "\t<tr><td> 0,04</td><td> 0,05</td></tr>\n",
       "\t<tr><td>-0,03</td><td>-0,03</td></tr>\n",
       "\t<tr><td> 0,08</td><td> 0,07</td></tr>\n",
       "\t<tr><td>-0,03</td><td>-0,04</td></tr>\n",
       "\t<tr><td>-0,01</td><td>-0,01</td></tr>\n",
       "\t<tr><td>-0,03</td><td>-0,04</td></tr>\n",
       "\t<tr><td>-0,05</td><td>-0,04</td></tr>\n",
       "\t<tr><td>-0,02</td><td>-0,02</td></tr>\n",
       "\t<tr><td> 0,00</td><td> 0,01</td></tr>\n",
       "\t<tr><td>-0,02</td><td>-0,03</td></tr>\n",
       "\t<tr><td>-0,01</td><td>-0,02</td></tr>\n",
       "\t<tr><td>-0,01</td><td>-0,01</td></tr>\n",
       "\t<tr><td> 0,04</td><td> 0,02</td></tr>\n",
       "\t<tr><td>-0,05</td><td>-0,05</td></tr>\n",
       "\t<tr><td> 0,02</td><td> 0,03</td></tr>\n",
       "\t<tr><td>-0,04</td><td>-0,05</td></tr>\n",
       "\t<tr><td>-0,01</td><td>-0,01</td></tr>\n",
       "\t<tr><td>-0,05</td><td>-0,03</td></tr>\n",
       "</tbody>\n",
       "</table>\n"
      ],
      "text/latex": [
       "\\begin{tabular}{ll}\n",
       " ACF & PACF\\\\\n",
       "\\hline\n",
       "\t  0,00 &  0,00\\\\\n",
       "\t  0,02 &  0,02\\\\\n",
       "\t -0,01 & -0,01\\\\\n",
       "\t  0,01 &  0,01\\\\\n",
       "\t -0,07 & -0,07\\\\\n",
       "\t -0,06 & -0,06\\\\\n",
       "\t  0,04 &  0,05\\\\\n",
       "\t  0,04 &  0,04\\\\\n",
       "\t -0,02 & -0,02\\\\\n",
       "\t  0,06 &  0,05\\\\\n",
       "\t -0,01 & -0,01\\\\\n",
       "\t  0,02 &  0,02\\\\\n",
       "\t  0,03 &  0,05\\\\\n",
       "\t  0,06 &  0,06\\\\\n",
       "\t  0,01 &  0,02\\\\\n",
       "\t  0,02 &  0,02\\\\\n",
       "\t -0,01 & -0,02\\\\\n",
       "\t  0,00 &  0,00\\\\\n",
       "\t -0,06 & -0,05\\\\\n",
       "\t  0,07 &  0,07\\\\\n",
       "\t -0,02 & -0,02\\\\\n",
       "\t  0,01 &  0,00\\\\\n",
       "\t  0,02 &  0,01\\\\\n",
       "\t -0,02 & -0,04\\\\\n",
       "\t  0,04 &  0,05\\\\\n",
       "\t -0,03 & -0,03\\\\\n",
       "\t  0,08 &  0,07\\\\\n",
       "\t -0,03 & -0,04\\\\\n",
       "\t -0,01 & -0,01\\\\\n",
       "\t -0,03 & -0,04\\\\\n",
       "\t -0,05 & -0,04\\\\\n",
       "\t -0,02 & -0,02\\\\\n",
       "\t  0,00 &  0,01\\\\\n",
       "\t -0,02 & -0,03\\\\\n",
       "\t -0,01 & -0,02\\\\\n",
       "\t -0,01 & -0,01\\\\\n",
       "\t  0,04 &  0,02\\\\\n",
       "\t -0,05 & -0,05\\\\\n",
       "\t  0,02 &  0,03\\\\\n",
       "\t -0,04 & -0,05\\\\\n",
       "\t -0,01 & -0,01\\\\\n",
       "\t -0,05 & -0,03\\\\\n",
       "\\end{tabular}\n"
      ],
      "text/markdown": [
       "\n",
       "| ACF | PACF |\n",
       "|---|---|\n",
       "|  0,00 |  0,00 |\n",
       "|  0,02 |  0,02 |\n",
       "| -0,01 | -0,01 |\n",
       "|  0,01 |  0,01 |\n",
       "| -0,07 | -0,07 |\n",
       "| -0,06 | -0,06 |\n",
       "|  0,04 |  0,05 |\n",
       "|  0,04 |  0,04 |\n",
       "| -0,02 | -0,02 |\n",
       "|  0,06 |  0,05 |\n",
       "| -0,01 | -0,01 |\n",
       "|  0,02 |  0,02 |\n",
       "|  0,03 |  0,05 |\n",
       "|  0,06 |  0,06 |\n",
       "|  0,01 |  0,02 |\n",
       "|  0,02 |  0,02 |\n",
       "| -0,01 | -0,02 |\n",
       "|  0,00 |  0,00 |\n",
       "| -0,06 | -0,05 |\n",
       "|  0,07 |  0,07 |\n",
       "| -0,02 | -0,02 |\n",
       "|  0,01 |  0,00 |\n",
       "|  0,02 |  0,01 |\n",
       "| -0,02 | -0,04 |\n",
       "|  0,04 |  0,05 |\n",
       "| -0,03 | -0,03 |\n",
       "|  0,08 |  0,07 |\n",
       "| -0,03 | -0,04 |\n",
       "| -0,01 | -0,01 |\n",
       "| -0,03 | -0,04 |\n",
       "| -0,05 | -0,04 |\n",
       "| -0,02 | -0,02 |\n",
       "|  0,00 |  0,01 |\n",
       "| -0,02 | -0,03 |\n",
       "| -0,01 | -0,02 |\n",
       "| -0,01 | -0,01 |\n",
       "|  0,04 |  0,02 |\n",
       "| -0,05 | -0,05 |\n",
       "|  0,02 |  0,03 |\n",
       "| -0,04 | -0,05 |\n",
       "| -0,01 | -0,01 |\n",
       "| -0,05 | -0,03 |\n",
       "\n"
      ],
      "text/plain": [
       "      ACF   PACF \n",
       " [1,]  0,00  0,00\n",
       " [2,]  0,02  0,02\n",
       " [3,] -0,01 -0,01\n",
       " [4,]  0,01  0,01\n",
       " [5,] -0,07 -0,07\n",
       " [6,] -0,06 -0,06\n",
       " [7,]  0,04  0,05\n",
       " [8,]  0,04  0,04\n",
       " [9,] -0,02 -0,02\n",
       "[10,]  0,06  0,05\n",
       "[11,] -0,01 -0,01\n",
       "[12,]  0,02  0,02\n",
       "[13,]  0,03  0,05\n",
       "[14,]  0,06  0,06\n",
       "[15,]  0,01  0,02\n",
       "[16,]  0,02  0,02\n",
       "[17,] -0,01 -0,02\n",
       "[18,]  0,00  0,00\n",
       "[19,] -0,06 -0,05\n",
       "[20,]  0,07  0,07\n",
       "[21,] -0,02 -0,02\n",
       "[22,]  0,01  0,00\n",
       "[23,]  0,02  0,01\n",
       "[24,] -0,02 -0,04\n",
       "[25,]  0,04  0,05\n",
       "[26,] -0,03 -0,03\n",
       "[27,]  0,08  0,07\n",
       "[28,] -0,03 -0,04\n",
       "[29,] -0,01 -0,01\n",
       "[30,] -0,03 -0,04\n",
       "[31,] -0,05 -0,04\n",
       "[32,] -0,02 -0,02\n",
       "[33,]  0,00  0,01\n",
       "[34,] -0,02 -0,03\n",
       "[35,] -0,01 -0,02\n",
       "[36,] -0,01 -0,01\n",
       "[37,]  0,04  0,02\n",
       "[38,] -0,05 -0,05\n",
       "[39,]  0,02  0,03\n",
       "[40,] -0,04 -0,05\n",
       "[41,] -0,01 -0,01\n",
       "[42,] -0,05 -0,03"
      ]
     },
     "metadata": {},
     "output_type": "display_data"
    },
    {
     "data": {
      "image/png": "[encoded data removed]",
      "text/plain": [
       "Plot with title “Series:  xres”"
      ]
     },
     "metadata": {},
     "output_type": "display_data"
    }
   ],
   "source": [
    "acf2(xres)"
   ]
  },
  {
   "cell_type": "code",
   "execution_count": 44,
   "metadata": {},
   "outputs": [
    {
     "data": {
      "text/plain": [
       "\n",
       "\tBox-Pierce test\n",
       "\n",
       "data:  xres\n",
       "X-squared = 15,061, df = 8, p-value = 0,05798\n"
      ]
     },
     "metadata": {},
     "output_type": "display_data"
    }
   ],
   "source": [
    "Box.test(xres,lag=10,fitdf=2) # default=Box-Pierce\n",
    "# Box.test(xres,lag=10,type=\"Box-Pierce\",fitdf=2)\n",
    "# Box.test(xres,lag=10,type=\"Ljung-Box\",fitdf=2)"
   ]
  },
  {
   "cell_type": "markdown",
   "metadata": {},
   "source": [
    "#### COMMENTS\n",
    "The residuals in both ACF and PACF seem to be random and not correlated! Good! There are some tests to quantify that next."
   ]
  },
  {
   "cell_type": "code",
   "execution_count": 45,
   "metadata": {},
   "outputs": [
    {
     "data": {
      "text/plain": [
       "\n",
       "\tBox-Pierce test\n",
       "\n",
       "data:  xres\n",
       "X-squared = 15,061, df = 8, p-value = 0,05798\n"
      ]
     },
     "metadata": {},
     "output_type": "display_data"
    }
   ],
   "source": [
    "Box.test(xres,lag=10,type=\"Box-Pierce\",fitdf=2) #Box-Pierce is also default test"
   ]
  },
  {
   "cell_type": "code",
   "execution_count": 46,
   "metadata": {},
   "outputs": [
    {
     "data": {
      "text/plain": [
       "\n",
       "\tBox-Ljung test\n",
       "\n",
       "data:  xres\n",
       "X-squared = 15,193, df = 8, p-value = 0,05549\n"
      ]
     },
     "metadata": {},
     "output_type": "display_data"
    }
   ],
   "source": [
    "Box.test(xres,lag=10,type=\"Ljung-Box\",fitdf=2)"
   ]
  },
  {
   "cell_type": "code",
   "execution_count": 47,
   "metadata": {},
   "outputs": [
    {
     "data": {
      "image/png": "[encoded data removed]",
      "text/plain": [
       "Plot with title “p values for Ljung-Box statistic”"
      ]
     },
     "metadata": {},
     "output_type": "display_data"
    }
   ],
   "source": [
    "options(repr.plot.width=4, repr.plot.height=8, cex = 0.3)\n",
    "tsdiag(xfit,gof.lag = 30)"
   ]
  },
  {
   "cell_type": "markdown",
   "metadata": {},
   "source": [
    "#### COMMENTS\n",
    "All good, I guess??..."
   ]
  },
  {
   "cell_type": "code",
   "execution_count": 66,
   "metadata": {},
   "outputs": [
    {
     "data": {
      "image/png": "[encoded data removed]",
      "text/plain": [
       "plot without title"
      ]
     },
     "metadata": {},
     "output_type": "display_data"
    }
   ],
   "source": [
    "# to see the fit quality on a part\n",
    "xb<-as.ts(x[1:100])\n",
    "xhatb<-as.ts(xhat[1:100])\n",
    "plot(cbind(xb,xhatb),col=c(1,2))"
   ]
  },
  {
   "cell_type": "markdown",
   "metadata": {},
   "source": [
    "### Forecasting and predicting next!"
   ]
  },
  {
   "cell_type": "code",
   "execution_count": 68,
   "metadata": {},
   "outputs": [],
   "source": [
    "x.pr = predict(xfit, nhead=20)\n"
   ]
  },
  {
   "cell_type": "code",
   "execution_count": 69,
   "metadata": {},
   "outputs": [],
   "source": [
    "U = x.pr$pred + x.pr$se\n",
    "L = x.pr$pred - x.pr$se\n",
    "minx = min(x,L)\n",
    "maxx = max(x,U)"
   ]
  },
  {
   "cell_type": "code",
   "execution_count": 74,
   "metadata": {},
   "outputs": [
    {
     "data": {
      "image/png": "[encoded data removed]",
      "text/plain": [
       "plot without title"
      ]
     },
     "metadata": {},
     "output_type": "display_data"
    }
   ],
   "source": [
    "options(repr.plot.width=4, repr.plot.height=4, cex = 0.3)\n",
    "\n",
    "ts.plot(x, x.pr$pred, xlim = c(-100,550), ylim = c(minx,maxx))\n",
    "lines(x.pr$pred, col = 'red', type = 'o')\n",
    "lines(U, col = 'blue', lty = 'dashed')\n",
    "lines(L, col = 'green', lty = 'dashed')\n"
   ]
  },
  {
   "cell_type": "code",
   "execution_count": 75,
   "metadata": {},
   "outputs": [
    {
     "data": {
      "text/plain": [
       "Series: x \n",
       "ARIMA(0,1,3) \n",
       "\n",
       "Coefficients:\n",
       "          ma1      ma2      ma3\n",
       "      -0,2291  -0,1164  -0,1563\n",
       "s.e.   0,0322   0,0358   0,0356\n",
       "\n",
       "sigma^2 estimated as 1,023:  log likelihood=-1427,57\n",
       "AIC=2863,15   AICc=2863,19   BIC=2882,77"
      ]
     },
     "metadata": {},
     "output_type": "display_data"
    }
   ],
   "source": [
    "model_auto<-auto.arima(x)\n",
    "model_auto"
   ]
  },
  {
   "cell_type": "code",
   "execution_count": null,
   "metadata": {},
   "outputs": [],
   "source": []
  },
  {
   "cell_type": "code",
   "execution_count": null,
   "metadata": {},
   "outputs": [],
   "source": []
  },
  {
   "cell_type": "code",
   "execution_count": 76,
   "metadata": {
    "scrolled": true
   },
   "outputs": [
    {
     "data": {
      "text/html": [
       "<table>\n",
       "<thead><tr><th scope=col>ACF</th><th scope=col>PACF</th></tr></thead>\n",
       "<tbody>\n",
       "\t<tr><td> 0,92</td><td> 0,92</td></tr>\n",
       "\t<tr><td> 0,78</td><td>-0,44</td></tr>\n",
       "\t<tr><td> 0,63</td><td>-0,05</td></tr>\n",
       "\t<tr><td> 0,48</td><td>-0,02</td></tr>\n",
       "\t<tr><td> 0,36</td><td> 0,07</td></tr>\n",
       "\t<tr><td> 0,26</td><td>-0,03</td></tr>\n",
       "\t<tr><td> 0,18</td><td>-0,03</td></tr>\n",
       "\t<tr><td> 0,13</td><td> 0,04</td></tr>\n",
       "\t<tr><td> 0,09</td><td> 0,05</td></tr>\n",
       "\t<tr><td> 0,07</td><td>-0,02</td></tr>\n",
       "\t<tr><td> 0,06</td><td>-0,05</td></tr>\n",
       "\t<tr><td> 0,02</td><td>-0,14</td></tr>\n",
       "\t<tr><td>-0,04</td><td>-0,15</td></tr>\n",
       "\t<tr><td>-0,12</td><td>-0,05</td></tr>\n",
       "\t<tr><td>-0,19</td><td> 0,05</td></tr>\n",
       "\t<tr><td>-0,24</td><td> 0,01</td></tr>\n",
       "\t<tr><td>-0,27</td><td> 0,01</td></tr>\n",
       "\t<tr><td>-0,27</td><td> 0,02</td></tr>\n",
       "\t<tr><td>-0,24</td><td> 0,09</td></tr>\n",
       "\t<tr><td>-0,19</td><td> 0,11</td></tr>\n",
       "\t<tr><td>-0,11</td><td> 0,03</td></tr>\n",
       "\t<tr><td>-0,03</td><td>-0,03</td></tr>\n",
       "\t<tr><td> 0,03</td><td>-0,01</td></tr>\n",
       "\t<tr><td> 0,06</td><td>-0,07</td></tr>\n",
       "\t<tr><td> 0,06</td><td>-0,12</td></tr>\n",
       "\t<tr><td> 0,02</td><td>-0,03</td></tr>\n",
       "\t<tr><td>-0,02</td><td> 0,05</td></tr>\n",
       "\t<tr><td>-0,06</td><td>-0,08</td></tr>\n",
       "\t<tr><td>-0,09</td><td>-0,04</td></tr>\n",
       "\t<tr><td>-0,12</td><td>-0,03</td></tr>\n",
       "\t<tr><td>-0,13</td><td> 0,06</td></tr>\n",
       "\t<tr><td>-0,11</td><td> 0,05</td></tr>\n",
       "\t<tr><td>-0,05</td><td> 0,15</td></tr>\n",
       "\t<tr><td> 0,02</td><td> 0,09</td></tr>\n",
       "\t<tr><td> 0,08</td><td>-0,04</td></tr>\n",
       "\t<tr><td> 0,12</td><td>-0,10</td></tr>\n",
       "\t<tr><td> 0,10</td><td>-0,09</td></tr>\n",
       "\t<tr><td> 0,06</td><td>-0,02</td></tr>\n",
       "\t<tr><td> 0,01</td><td> 0,05</td></tr>\n",
       "\t<tr><td>-0,02</td><td> 0,08</td></tr>\n",
       "\t<tr><td>-0,03</td><td>-0,02</td></tr>\n",
       "\t<tr><td>-0,03</td><td>-0,01</td></tr>\n",
       "\t<tr><td>-0,02</td><td>-0,02</td></tr>\n",
       "\t<tr><td> 0,01</td><td> 0,05</td></tr>\n",
       "\t<tr><td> 0,06</td><td> 0,01</td></tr>\n",
       "\t<tr><td> 0,12</td><td> 0,05</td></tr>\n",
       "\t<tr><td> 0,17</td><td> 0,08</td></tr>\n",
       "\t<tr><td> 0,20</td><td>-0,04</td></tr>\n",
       "</tbody>\n",
       "</table>\n"
      ],
      "text/latex": [
       "\\begin{tabular}{ll}\n",
       " ACF & PACF\\\\\n",
       "\\hline\n",
       "\t  0,92 &  0,92\\\\\n",
       "\t  0,78 & -0,44\\\\\n",
       "\t  0,63 & -0,05\\\\\n",
       "\t  0,48 & -0,02\\\\\n",
       "\t  0,36 &  0,07\\\\\n",
       "\t  0,26 & -0,03\\\\\n",
       "\t  0,18 & -0,03\\\\\n",
       "\t  0,13 &  0,04\\\\\n",
       "\t  0,09 &  0,05\\\\\n",
       "\t  0,07 & -0,02\\\\\n",
       "\t  0,06 & -0,05\\\\\n",
       "\t  0,02 & -0,14\\\\\n",
       "\t -0,04 & -0,15\\\\\n",
       "\t -0,12 & -0,05\\\\\n",
       "\t -0,19 &  0,05\\\\\n",
       "\t -0,24 &  0,01\\\\\n",
       "\t -0,27 &  0,01\\\\\n",
       "\t -0,27 &  0,02\\\\\n",
       "\t -0,24 &  0,09\\\\\n",
       "\t -0,19 &  0,11\\\\\n",
       "\t -0,11 &  0,03\\\\\n",
       "\t -0,03 & -0,03\\\\\n",
       "\t  0,03 & -0,01\\\\\n",
       "\t  0,06 & -0,07\\\\\n",
       "\t  0,06 & -0,12\\\\\n",
       "\t  0,02 & -0,03\\\\\n",
       "\t -0,02 &  0,05\\\\\n",
       "\t -0,06 & -0,08\\\\\n",
       "\t -0,09 & -0,04\\\\\n",
       "\t -0,12 & -0,03\\\\\n",
       "\t -0,13 &  0,06\\\\\n",
       "\t -0,11 &  0,05\\\\\n",
       "\t -0,05 &  0,15\\\\\n",
       "\t  0,02 &  0,09\\\\\n",
       "\t  0,08 & -0,04\\\\\n",
       "\t  0,12 & -0,10\\\\\n",
       "\t  0,10 & -0,09\\\\\n",
       "\t  0,06 & -0,02\\\\\n",
       "\t  0,01 &  0,05\\\\\n",
       "\t -0,02 &  0,08\\\\\n",
       "\t -0,03 & -0,02\\\\\n",
       "\t -0,03 & -0,01\\\\\n",
       "\t -0,02 & -0,02\\\\\n",
       "\t  0,01 &  0,05\\\\\n",
       "\t  0,06 &  0,01\\\\\n",
       "\t  0,12 &  0,05\\\\\n",
       "\t  0,17 &  0,08\\\\\n",
       "\t  0,20 & -0,04\\\\\n",
       "\\end{tabular}\n"
      ],
      "text/markdown": [
       "\n",
       "| ACF | PACF |\n",
       "|---|---|\n",
       "|  0,92 |  0,92 |\n",
       "|  0,78 | -0,44 |\n",
       "|  0,63 | -0,05 |\n",
       "|  0,48 | -0,02 |\n",
       "|  0,36 |  0,07 |\n",
       "|  0,26 | -0,03 |\n",
       "|  0,18 | -0,03 |\n",
       "|  0,13 |  0,04 |\n",
       "|  0,09 |  0,05 |\n",
       "|  0,07 | -0,02 |\n",
       "|  0,06 | -0,05 |\n",
       "|  0,02 | -0,14 |\n",
       "| -0,04 | -0,15 |\n",
       "| -0,12 | -0,05 |\n",
       "| -0,19 |  0,05 |\n",
       "| -0,24 |  0,01 |\n",
       "| -0,27 |  0,01 |\n",
       "| -0,27 |  0,02 |\n",
       "| -0,24 |  0,09 |\n",
       "| -0,19 |  0,11 |\n",
       "| -0,11 |  0,03 |\n",
       "| -0,03 | -0,03 |\n",
       "|  0,03 | -0,01 |\n",
       "|  0,06 | -0,07 |\n",
       "|  0,06 | -0,12 |\n",
       "|  0,02 | -0,03 |\n",
       "| -0,02 |  0,05 |\n",
       "| -0,06 | -0,08 |\n",
       "| -0,09 | -0,04 |\n",
       "| -0,12 | -0,03 |\n",
       "| -0,13 |  0,06 |\n",
       "| -0,11 |  0,05 |\n",
       "| -0,05 |  0,15 |\n",
       "|  0,02 |  0,09 |\n",
       "|  0,08 | -0,04 |\n",
       "|  0,12 | -0,10 |\n",
       "|  0,10 | -0,09 |\n",
       "|  0,06 | -0,02 |\n",
       "|  0,01 |  0,05 |\n",
       "| -0,02 |  0,08 |\n",
       "| -0,03 | -0,02 |\n",
       "| -0,03 | -0,01 |\n",
       "| -0,02 | -0,02 |\n",
       "|  0,01 |  0,05 |\n",
       "|  0,06 |  0,01 |\n",
       "|  0,12 |  0,05 |\n",
       "|  0,17 |  0,08 |\n",
       "|  0,20 | -0,04 |\n",
       "\n"
      ],
      "text/plain": [
       "      ACF   PACF \n",
       " [1,]  0,92  0,92\n",
       " [2,]  0,78 -0,44\n",
       " [3,]  0,63 -0,05\n",
       " [4,]  0,48 -0,02\n",
       " [5,]  0,36  0,07\n",
       " [6,]  0,26 -0,03\n",
       " [7,]  0,18 -0,03\n",
       " [8,]  0,13  0,04\n",
       " [9,]  0,09  0,05\n",
       "[10,]  0,07 -0,02\n",
       "[11,]  0,06 -0,05\n",
       "[12,]  0,02 -0,14\n",
       "[13,] -0,04 -0,15\n",
       "[14,] -0,12 -0,05\n",
       "[15,] -0,19  0,05\n",
       "[16,] -0,24  0,01\n",
       "[17,] -0,27  0,01\n",
       "[18,] -0,27  0,02\n",
       "[19,] -0,24  0,09\n",
       "[20,] -0,19  0,11\n",
       "[21,] -0,11  0,03\n",
       "[22,] -0,03 -0,03\n",
       "[23,]  0,03 -0,01\n",
       "[24,]  0,06 -0,07\n",
       "[25,]  0,06 -0,12\n",
       "[26,]  0,02 -0,03\n",
       "[27,] -0,02  0,05\n",
       "[28,] -0,06 -0,08\n",
       "[29,] -0,09 -0,04\n",
       "[30,] -0,12 -0,03\n",
       "[31,] -0,13  0,06\n",
       "[32,] -0,11  0,05\n",
       "[33,] -0,05  0,15\n",
       "[34,]  0,02  0,09\n",
       "[35,]  0,08 -0,04\n",
       "[36,]  0,12 -0,10\n",
       "[37,]  0,10 -0,09\n",
       "[38,]  0,06 -0,02\n",
       "[39,]  0,01  0,05\n",
       "[40,] -0,02  0,08\n",
       "[41,] -0,03 -0,02\n",
       "[42,] -0,03 -0,01\n",
       "[43,] -0,02 -0,02\n",
       "[44,]  0,01  0,05\n",
       "[45,]  0,06  0,01\n",
       "[46,]  0,12  0,05\n",
       "[47,]  0,17  0,08\n",
       "[48,]  0,20 -0,04"
      ]
     },
     "metadata": {},
     "output_type": "display_data"
    },
    {
     "data": {
      "text/plain": [
       "\n",
       "Call:\n",
       "ar.ols(x = rec, order.max = 2, demean = F, intercept = TRUE)\n",
       "\n",
       "Coefficients:\n",
       "      1        2  \n",
       " 1,3541  -0,4632  \n",
       "\n",
       "Intercept: 6,737 (1,111) \n",
       "\n",
       "Order selected 2  sigma^2 estimated as  89,72"
      ]
     },
     "metadata": {},
     "output_type": "display_data"
    },
    {
     "data": {
      "text/html": [
       "<dl>\n",
       "\t<dt>$x.mean</dt>\n",
       "\t\t<dd>1,11059887598347</dd>\n",
       "\t<dt>$ar</dt>\n",
       "\t\t<dd><ol class=list-inline>\n",
       "\t<li>0,0417890066543083</li>\n",
       "\t<li>0,0418794219793688</li>\n",
       "</ol>\n",
       "</dd>\n",
       "</dl>\n"
      ],
      "text/latex": [
       "\\begin{description}\n",
       "\\item[\\$x.mean] 1,11059887598347\n",
       "\\item[\\$ar] \\begin{enumerate*}\n",
       "\\item 0,0417890066543083\n",
       "\\item 0,0418794219793688\n",
       "\\end{enumerate*}\n",
       "\n",
       "\\end{description}\n"
      ],
      "text/markdown": [
       "$x.mean\n",
       ":   1,11059887598347\n",
       "$ar\n",
       ":   1. 0,0417890066543083\n",
       "2. 0,0418794219793688\n",
       "\n",
       "\n",
       "\n",
       "\n",
       "\n"
      ],
      "text/plain": [
       "$x.mean\n",
       "[1] 1,110599\n",
       "\n",
       "$ar\n",
       "[1] 0,04178901 0,04187942\n"
      ]
     },
     "metadata": {},
     "output_type": "display_data"
    },
    {
     "data": {
      "image/png": "[encoded data removed]",
      "text/plain": [
       "Plot with title “Series:  rec”"
      ]
     },
     "metadata": {},
     "output_type": "display_data"
    },
    {
     "data": {
      "text/html": [
       "<table>\n",
       "<thead><tr><th scope=col>ACF</th><th scope=col>PACF</th></tr></thead>\n",
       "<tbody>\n",
       "\t<tr><td>-0,02</td><td>-0,02</td></tr>\n",
       "\t<tr><td> 0,02</td><td> 0,02</td></tr>\n",
       "\t<tr><td> 0,06</td><td> 0,06</td></tr>\n",
       "\t<tr><td>-0,08</td><td>-0,08</td></tr>\n",
       "\t<tr><td> 0,00</td><td> 0,00</td></tr>\n",
       "\t<tr><td> 0,04</td><td> 0,04</td></tr>\n",
       "\t<tr><td>-0,01</td><td> 0,00</td></tr>\n",
       "\t<tr><td>-0,06</td><td>-0,06</td></tr>\n",
       "\t<tr><td>-0,02</td><td>-0,03</td></tr>\n",
       "\t<tr><td>-0,02</td><td>-0,01</td></tr>\n",
       "\t<tr><td> 0,05</td><td> 0,05</td></tr>\n",
       "\t<tr><td> 0,13</td><td> 0,12</td></tr>\n",
       "\t<tr><td> 0,05</td><td> 0,05</td></tr>\n",
       "\t<tr><td>-0,06</td><td>-0,07</td></tr>\n",
       "\t<tr><td>-0,05</td><td>-0,07</td></tr>\n",
       "\t<tr><td>-0,08</td><td>-0,08</td></tr>\n",
       "\t<tr><td>-0,05</td><td>-0,05</td></tr>\n",
       "\t<tr><td>-0,05</td><td>-0,06</td></tr>\n",
       "\t<tr><td>-0,11</td><td>-0,11</td></tr>\n",
       "\t<tr><td>-0,08</td><td>-0,08</td></tr>\n",
       "\t<tr><td>-0,01</td><td> 0,01</td></tr>\n",
       "\t<tr><td> 0,01</td><td> 0,03</td></tr>\n",
       "\t<tr><td> 0,05</td><td> 0,03</td></tr>\n",
       "\t<tr><td> 0,16</td><td> 0,13</td></tr>\n",
       "\t<tr><td> 0,08</td><td> 0,09</td></tr>\n",
       "\t<tr><td>-0,09</td><td>-0,08</td></tr>\n",
       "\t<tr><td> 0,02</td><td> 0,01</td></tr>\n",
       "\t<tr><td>-0,02</td><td> 0,01</td></tr>\n",
       "\t<tr><td>-0,01</td><td> 0,01</td></tr>\n",
       "\t<tr><td>-0,04</td><td>-0,06</td></tr>\n",
       "\t<tr><td>-0,05</td><td>-0,03</td></tr>\n",
       "\t<tr><td>-0,12</td><td>-0,11</td></tr>\n",
       "\t<tr><td>-0,08</td><td>-0,10</td></tr>\n",
       "\t<tr><td> 0,01</td><td>-0,03</td></tr>\n",
       "\t<tr><td> 0,10</td><td> 0,07</td></tr>\n",
       "\t<tr><td> 0,16</td><td> 0,13</td></tr>\n",
       "\t<tr><td> 0,07</td><td> 0,06</td></tr>\n",
       "\t<tr><td> 0,01</td><td> 0,03</td></tr>\n",
       "\t<tr><td>-0,12</td><td>-0,10</td></tr>\n",
       "\t<tr><td>-0,01</td><td>-0,01</td></tr>\n",
       "\t<tr><td>-0,02</td><td>-0,01</td></tr>\n",
       "\t<tr><td> 0,02</td><td> 0,05</td></tr>\n",
       "\t<tr><td>-0,06</td><td>-0,03</td></tr>\n",
       "\t<tr><td>-0,04</td><td> 0,02</td></tr>\n",
       "\t<tr><td>-0,03</td><td>-0,01</td></tr>\n",
       "\t<tr><td>-0,05</td><td>-0,08</td></tr>\n",
       "\t<tr><td> 0,10</td><td> 0,02</td></tr>\n",
       "\t<tr><td> 0,14</td><td> 0,07</td></tr>\n",
       "</tbody>\n",
       "</table>\n"
      ],
      "text/latex": [
       "\\begin{tabular}{ll}\n",
       " ACF & PACF\\\\\n",
       "\\hline\n",
       "\t -0,02 & -0,02\\\\\n",
       "\t  0,02 &  0,02\\\\\n",
       "\t  0,06 &  0,06\\\\\n",
       "\t -0,08 & -0,08\\\\\n",
       "\t  0,00 &  0,00\\\\\n",
       "\t  0,04 &  0,04\\\\\n",
       "\t -0,01 &  0,00\\\\\n",
       "\t -0,06 & -0,06\\\\\n",
       "\t -0,02 & -0,03\\\\\n",
       "\t -0,02 & -0,01\\\\\n",
       "\t  0,05 &  0,05\\\\\n",
       "\t  0,13 &  0,12\\\\\n",
       "\t  0,05 &  0,05\\\\\n",
       "\t -0,06 & -0,07\\\\\n",
       "\t -0,05 & -0,07\\\\\n",
       "\t -0,08 & -0,08\\\\\n",
       "\t -0,05 & -0,05\\\\\n",
       "\t -0,05 & -0,06\\\\\n",
       "\t -0,11 & -0,11\\\\\n",
       "\t -0,08 & -0,08\\\\\n",
       "\t -0,01 &  0,01\\\\\n",
       "\t  0,01 &  0,03\\\\\n",
       "\t  0,05 &  0,03\\\\\n",
       "\t  0,16 &  0,13\\\\\n",
       "\t  0,08 &  0,09\\\\\n",
       "\t -0,09 & -0,08\\\\\n",
       "\t  0,02 &  0,01\\\\\n",
       "\t -0,02 &  0,01\\\\\n",
       "\t -0,01 &  0,01\\\\\n",
       "\t -0,04 & -0,06\\\\\n",
       "\t -0,05 & -0,03\\\\\n",
       "\t -0,12 & -0,11\\\\\n",
       "\t -0,08 & -0,10\\\\\n",
       "\t  0,01 & -0,03\\\\\n",
       "\t  0,10 &  0,07\\\\\n",
       "\t  0,16 &  0,13\\\\\n",
       "\t  0,07 &  0,06\\\\\n",
       "\t  0,01 &  0,03\\\\\n",
       "\t -0,12 & -0,10\\\\\n",
       "\t -0,01 & -0,01\\\\\n",
       "\t -0,02 & -0,01\\\\\n",
       "\t  0,02 &  0,05\\\\\n",
       "\t -0,06 & -0,03\\\\\n",
       "\t -0,04 &  0,02\\\\\n",
       "\t -0,03 & -0,01\\\\\n",
       "\t -0,05 & -0,08\\\\\n",
       "\t  0,10 &  0,02\\\\\n",
       "\t  0,14 &  0,07\\\\\n",
       "\\end{tabular}\n"
      ],
      "text/markdown": [
       "\n",
       "| ACF | PACF |\n",
       "|---|---|\n",
       "| -0,02 | -0,02 |\n",
       "|  0,02 |  0,02 |\n",
       "|  0,06 |  0,06 |\n",
       "| -0,08 | -0,08 |\n",
       "|  0,00 |  0,00 |\n",
       "|  0,04 |  0,04 |\n",
       "| -0,01 |  0,00 |\n",
       "| -0,06 | -0,06 |\n",
       "| -0,02 | -0,03 |\n",
       "| -0,02 | -0,01 |\n",
       "|  0,05 |  0,05 |\n",
       "|  0,13 |  0,12 |\n",
       "|  0,05 |  0,05 |\n",
       "| -0,06 | -0,07 |\n",
       "| -0,05 | -0,07 |\n",
       "| -0,08 | -0,08 |\n",
       "| -0,05 | -0,05 |\n",
       "| -0,05 | -0,06 |\n",
       "| -0,11 | -0,11 |\n",
       "| -0,08 | -0,08 |\n",
       "| -0,01 |  0,01 |\n",
       "|  0,01 |  0,03 |\n",
       "|  0,05 |  0,03 |\n",
       "|  0,16 |  0,13 |\n",
       "|  0,08 |  0,09 |\n",
       "| -0,09 | -0,08 |\n",
       "|  0,02 |  0,01 |\n",
       "| -0,02 |  0,01 |\n",
       "| -0,01 |  0,01 |\n",
       "| -0,04 | -0,06 |\n",
       "| -0,05 | -0,03 |\n",
       "| -0,12 | -0,11 |\n",
       "| -0,08 | -0,10 |\n",
       "|  0,01 | -0,03 |\n",
       "|  0,10 |  0,07 |\n",
       "|  0,16 |  0,13 |\n",
       "|  0,07 |  0,06 |\n",
       "|  0,01 |  0,03 |\n",
       "| -0,12 | -0,10 |\n",
       "| -0,01 | -0,01 |\n",
       "| -0,02 | -0,01 |\n",
       "|  0,02 |  0,05 |\n",
       "| -0,06 | -0,03 |\n",
       "| -0,04 |  0,02 |\n",
       "| -0,03 | -0,01 |\n",
       "| -0,05 | -0,08 |\n",
       "|  0,10 |  0,02 |\n",
       "|  0,14 |  0,07 |\n",
       "\n"
      ],
      "text/plain": [
       "      ACF   PACF \n",
       " [1,] -0,02 -0,02\n",
       " [2,]  0,02  0,02\n",
       " [3,]  0,06  0,06\n",
       " [4,] -0,08 -0,08\n",
       " [5,]  0,00  0,00\n",
       " [6,]  0,04  0,04\n",
       " [7,] -0,01  0,00\n",
       " [8,] -0,06 -0,06\n",
       " [9,] -0,02 -0,03\n",
       "[10,] -0,02 -0,01\n",
       "[11,]  0,05  0,05\n",
       "[12,]  0,13  0,12\n",
       "[13,]  0,05  0,05\n",
       "[14,] -0,06 -0,07\n",
       "[15,] -0,05 -0,07\n",
       "[16,] -0,08 -0,08\n",
       "[17,] -0,05 -0,05\n",
       "[18,] -0,05 -0,06\n",
       "[19,] -0,11 -0,11\n",
       "[20,] -0,08 -0,08\n",
       "[21,] -0,01  0,01\n",
       "[22,]  0,01  0,03\n",
       "[23,]  0,05  0,03\n",
       "[24,]  0,16  0,13\n",
       "[25,]  0,08  0,09\n",
       "[26,] -0,09 -0,08\n",
       "[27,]  0,02  0,01\n",
       "[28,] -0,02  0,01\n",
       "[29,] -0,01  0,01\n",
       "[30,] -0,04 -0,06\n",
       "[31,] -0,05 -0,03\n",
       "[32,] -0,12 -0,11\n",
       "[33,] -0,08 -0,10\n",
       "[34,]  0,01 -0,03\n",
       "[35,]  0,10  0,07\n",
       "[36,]  0,16  0,13\n",
       "[37,]  0,07  0,06\n",
       "[38,]  0,01  0,03\n",
       "[39,] -0,12 -0,10\n",
       "[40,] -0,01 -0,01\n",
       "[41,] -0,02 -0,01\n",
       "[42,]  0,02  0,05\n",
       "[43,] -0,06 -0,03\n",
       "[44,] -0,04  0,02\n",
       "[45,] -0,03 -0,01\n",
       "[46,] -0,05 -0,08\n",
       "[47,]  0,10  0,02\n",
       "[48,]  0,14  0,07"
      ]
     },
     "metadata": {},
     "output_type": "display_data"
    },
    {
     "data": {
      "text/html": [
       "62,2345456762743"
      ],
      "text/latex": [
       "62,2345456762743"
      ],
      "text/markdown": [
       "62,2345456762743"
      ],
      "text/plain": [
       "[1] 62,23455"
      ]
     },
     "metadata": {},
     "output_type": "display_data"
    },
    {
     "data": {
      "text/html": [
       "62,2627816777042"
      ],
      "text/latex": [
       "62,2627816777042"
      ],
      "text/markdown": [
       "62,2627816777042"
      ],
      "text/plain": [
       "[1] 62,26278"
      ]
     },
     "metadata": {},
     "output_type": "display_data"
    },
    {
     "data": {
      "image/png": "[encoded data removed]",
      "text/plain": [
       "Plot with title “Series:  res0”"
      ]
     },
     "metadata": {},
     "output_type": "display_data"
    }
   ],
   "source": [
    "#########################\n",
    "# Model estimation for an ar(2) to model rec (Recruitment variable)\n",
    "# 453 months over the years 1950-1987\n",
    "\n",
    "# Using regression\n",
    "acf2(rec, 48)     # will produce values and a graphic \n",
    "(regr = ar.ols(rec, order=2, demean=F, intercept=TRUE))  # regression\n",
    "regr$asy.se.coef  # standard errors \n",
    "res0<- regr$resid\n",
    "acf2(res0)\n",
    "mean(fitted(regr)[-(1:2)])\n",
    "mean(x=rec)"
   ]
  },
  {
   "cell_type": "code",
   "execution_count": 77,
   "metadata": {},
   "outputs": [
    {
     "data": {
      "text/html": [
       "62,2627816777042"
      ],
      "text/latex": [
       "62,2627816777042"
      ],
      "text/markdown": [
       "62,2627816777042"
      ],
      "text/plain": [
       "[1] 62,26278"
      ]
     },
     "metadata": {},
     "output_type": "display_data"
    },
    {
     "data": {
      "text/html": [
       "<ol class=list-inline>\n",
       "\t<li>1,33158738866791</li>\n",
       "\t<li>-0,444544697634474</li>\n",
       "</ol>\n"
      ],
      "text/latex": [
       "\\begin{enumerate*}\n",
       "\\item 1,33158738866791\n",
       "\\item -0,444544697634474\n",
       "\\end{enumerate*}\n"
      ],
      "text/markdown": [
       "1. 1,33158738866791\n",
       "2. -0,444544697634474\n",
       "\n",
       "\n"
      ],
      "text/plain": [
       "[1]  1,3315874 -0,4445447"
      ]
     },
     "metadata": {},
     "output_type": "display_data"
    },
    {
     "data": {
      "text/html": [
       "<ol class=list-inline>\n",
       "\t<li>0,0422263743755033</li>\n",
       "\t<li>0,0422263743755033</li>\n",
       "</ol>\n"
      ],
      "text/latex": [
       "\\begin{enumerate*}\n",
       "\\item 0,0422263743755033\n",
       "\\item 0,0422263743755033\n",
       "\\end{enumerate*}\n"
      ],
      "text/markdown": [
       "1. 0,0422263743755033\n",
       "2. 0,0422263743755033\n",
       "\n",
       "\n"
      ],
      "text/plain": [
       "[1] 0,04222637 0,04222637"
      ]
     },
     "metadata": {},
     "output_type": "display_data"
    },
    {
     "data": {
      "text/html": [
       "94,7991188417802"
      ],
      "text/latex": [
       "94,7991188417802"
      ],
      "text/markdown": [
       "94,7991188417802"
      ],
      "text/plain": [
       "[1] 94,79912"
      ]
     },
     "metadata": {},
     "output_type": "display_data"
    }
   ],
   "source": [
    "\n",
    "# Using Yule-Walker\n",
    "rec.yw = ar.yw(rec, order=2)\n",
    "rec.yw$x.mean  # = 62.26278 (mean estimate)\n",
    "rec.yw$ar      # = 1.3315874, -.4445447  (parameter estimates)\n",
    "sqrt(diag(rec.yw$asy.var.coef))  # = .04222637, .04222637  (standard errors)\n",
    "rec.yw$var.pred  # = 94.79912 (error variance estimate)"
   ]
  },
  {
   "cell_type": "code",
   "execution_count": 78,
   "metadata": {},
   "outputs": [
    {
     "ename": "ERROR",
     "evalue": "Error in eval(expr, envir, enclos): object 'rec.pr' not found\n",
     "output_type": "error",
     "traceback": [
      "Error in eval(expr, envir, enclos): object 'rec.pr' not found\nTraceback:\n"
     ]
    }
   ],
   "source": [
    "\n",
    "(rec.pr$se)\n"
   ]
  },
  {
   "cell_type": "code",
   "execution_count": 79,
   "metadata": {},
   "outputs": [
    {
     "data": {
      "text/html": [
       "62,2627816777042"
      ],
      "text/latex": [
       "62,2627816777042"
      ],
      "text/markdown": [
       "62,2627816777042"
      ],
      "text/plain": [
       "[1] 62,26278"
      ]
     },
     "metadata": {},
     "output_type": "display_data"
    },
    {
     "data": {
      "text/html": [
       "62,2426300200043"
      ],
      "text/latex": [
       "62,2426300200043"
      ],
      "text/markdown": [
       "62,2426300200043"
      ],
      "text/plain": [
       "[1] 62,24263"
      ]
     },
     "metadata": {},
     "output_type": "display_data"
    },
    {
     "data": {
      "image/png": "[encoded data removed]",
      "text/plain": [
       "plot without title"
      ]
     },
     "metadata": {},
     "output_type": "display_data"
    }
   ],
   "source": [
    "\n",
    "rec.pr = predict(rec.yw, n.ahead=24)\n",
    "U = rec.pr$pred + rec.pr$se\n",
    "L = rec.pr$pred - rec.pr$se\n",
    "minx = min(rec,L); maxx = max(rec,U)\n",
    "ts.plot(rec, rec.pr$pred, xlim=c(1980,1990), ylim=c(minx,maxx)) \n",
    "lines(rec.pr$pred, col=\"red\", type=\"o\")\n",
    "lines(U, col=\"blue\", lty=\"dashed\")\n",
    "lines(L, col=\"blue\", lty=\"dashed\")\n",
    "mean(rec)\n",
    "rec.pr$pred[24]  # to be conmpared with the previous line result\n",
    "\n"
   ]
  },
  {
   "cell_type": "code",
   "execution_count": 80,
   "metadata": {},
   "outputs": [
    {
     "data": {
      "text/html": [
       "62,2615261054908"
      ],
      "text/latex": [
       "62,2615261054908"
      ],
      "text/markdown": [
       "62,2615261054908"
      ],
      "text/plain": [
       "[1] 62,26153"
      ]
     },
     "metadata": {},
     "output_type": "display_data"
    },
    {
     "data": {
      "text/html": [
       "<ol class=list-inline>\n",
       "\t<li>1,35128085590498</li>\n",
       "\t<li>-0,461273619173951</li>\n",
       "</ol>\n"
      ],
      "text/latex": [
       "\\begin{enumerate*}\n",
       "\\item 1,35128085590498\n",
       "\\item -0,461273619173951\n",
       "\\end{enumerate*}\n"
      ],
      "text/markdown": [
       "1. 1,35128085590498\n",
       "2. -0,461273619173951\n",
       "\n",
       "\n"
      ],
      "text/plain": [
       "[1]  1,3512809 -0,4612736"
      ]
     },
     "metadata": {},
     "output_type": "display_data"
    },
    {
     "data": {
      "text/html": [
       "<ol class=list-inline>\n",
       "\t<li>0,0409915944162096</li>\n",
       "\t<li>0,0409915944162096</li>\n",
       "</ol>\n"
      ],
      "text/latex": [
       "\\begin{enumerate*}\n",
       "\\item 0,0409915944162096\n",
       "\\item 0,0409915944162096\n",
       "\\end{enumerate*}\n"
      ],
      "text/markdown": [
       "1. 0,0409915944162096\n",
       "2. 0,0409915944162096\n",
       "\n",
       "\n"
      ],
      "text/plain": [
       "[1] 0,04099159 0,04099159"
      ]
     },
     "metadata": {},
     "output_type": "display_data"
    },
    {
     "data": {
      "text/html": [
       "89,3359654276633"
      ],
      "text/latex": [
       "89,3359654276633"
      ],
      "text/markdown": [
       "89,3359654276633"
      ],
      "text/plain": [
       "[1] 89,33597"
      ]
     },
     "metadata": {},
     "output_type": "display_data"
    }
   ],
   "source": [
    "# Using mle for ar\n",
    "rec.mle = ar.mle(rec, order=2)\n",
    "rec.mle$x.mean\n",
    "rec.mle$ar\n",
    "sqrt(diag(rec.mle$asy.var.coef))\n",
    "rec.mle$var.pred"
   ]
  },
  {
   "cell_type": "code",
   "execution_count": 81,
   "metadata": {},
   "outputs": [
    {
     "name": "stdout",
     "output_type": "stream",
     "text": [
      "\n",
      "Call:\n",
      "arima(x = rec, order = c(2, 0, 0))\n",
      "\n",
      "Coefficients:\n",
      "         ar1      ar2  intercept\n",
      "      1,3512  -0,4612    61,8585\n",
      "s.e.  0,0416   0,0417     4,0039\n",
      "\n",
      "sigma^2 estimated as 89,33:  log likelihood = -1661,51,  aic = 3329,02\n",
      "\n",
      "Training set error measures:\n"
     ]
    },
    {
     "ename": "ERROR",
     "evalue": "Error in .cbind.ts(list(e1, e2), c(deparse(substitute(e1))[1L], deparse(substitute(e2))[1L]), : not all series have the same frequency\n",
     "output_type": "error",
     "traceback": [
      "Error in .cbind.ts(list(e1, e2), c(deparse(substitute(e1))[1L], deparse(substitute(e2))[1L]), : not all series have the same frequency\nTraceback:\n",
      "1. summary(rec_arima)",
      "2. summary.Arima(rec_arima)",
      "3. print(accuracy(object))",
      "4. accuracy(object)",
      "5. accuracy.default(object)",
      "6. trainingaccuracy(f, test, d, D)",
      "7. fitted(f)",
      "8. fitted.Arima(f)",
      "9. Ops.ts(x, object$residuals)",
      "10. .cbind.ts(list(e1, e2), c(deparse(substitute(e1))[1L], deparse(substitute(e2))[1L]), \n  .     union = FALSE)",
      "11. stop(\"not all series have the same frequency\")"
     ]
    }
   ],
   "source": [
    "# perso: using general arima\n",
    "rec_arima<- arima(rec,order=c(2,0,0))\n",
    "summary(rec_arima)\n",
    "rec_arima<- arima(rec,order=c(2,0,0),method=\"ML\")\n",
    "summary(rec_arima)\n",
    "rec_arima<- arima(rec,order=c(2,0,0),method=\"CSS\")\n",
    "summary(rec_arima)"
   ]
  },
  {
   "cell_type": "code",
   "execution_count": null,
   "metadata": {},
   "outputs": [],
   "source": []
  }
 ],
 "metadata": {
  "kernelspec": {
   "display_name": "R",
   "language": "R",
   "name": "ir"
  },
  "language_info": {
   "codemirror_mode": "r",
   "file_extension": ".r",
   "mimetype": "text/x-r-source",
   "name": "R",
   "pygments_lexer": "r",
   "version": "3.6.1"
  }
 },
 "nbformat": 4,
 "nbformat_minor": 2
}
